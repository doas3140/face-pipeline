{
 "cells": [
  {
   "cell_type": "code",
   "execution_count": null,
   "metadata": {},
   "outputs": [],
   "source": [
    "#default_exp labeling_icao"
   ]
  },
  {
   "cell_type": "code",
   "execution_count": 1,
   "metadata": {},
   "outputs": [],
   "source": [
    "#export\n",
    "from pathlib import Path\n",
    "import numpy as np\n",
    "from ipywidgets import widgets, Layout\n",
    "from IPython.display import clear_output, display\n",
    "import io\n",
    "import json\n",
    "from PIL import Image as PILImage"
   ]
  },
  {
   "cell_type": "markdown",
   "metadata": {},
   "source": [
    "# Labeler"
   ]
  },
  {
   "cell_type": "code",
   "execution_count": 2,
   "metadata": {},
   "outputs": [],
   "source": [
    "#export\n",
    "LABELS_DIRPATH = Path('../data/custom_icao/labels/')\n",
    "IMG_PATHS = [str(path) for path in Path('../data/face/unlabeled_cropped_images/').iterdir()]\n",
    "IMG_SIZE = (100,100)\n",
    "LABELS = [\n",
    "    'MouthOpen',\n",
    "    'Blink'\n",
    "]"
   ]
  },
  {
   "cell_type": "code",
   "execution_count": 3,
   "metadata": {},
   "outputs": [],
   "source": [
    "#export\n",
    "def impath2bytes(path, newsize):\n",
    "    img = PILImage.open(path, mode='r')\n",
    "    img = img.resize(newsize)\n",
    "    imgByteArr = io.BytesIO()\n",
    "    img.save(imgByteArr, format='jpeg')\n",
    "    return imgByteArr.getvalue()"
   ]
  },
  {
   "cell_type": "code",
   "execution_count": 4,
   "metadata": {},
   "outputs": [],
   "source": [
    "#export\n",
    "def make_button_widget(desc, handler=None, img_path=None, style=None, layout=Layout(width='auto'), color='blue'):\n",
    "    if color == 'green': button_style = 'success'\n",
    "    elif color == 'red': button_style = 'danger'\n",
    "    else: button_style = 'info'\n",
    "    if color == 'lightred': color = 'lightsalmon'\n",
    "    btn = widgets.Button(description=desc, layout=layout, button_style=button_style)\n",
    "    if color not in []: btn.style.button_color = color\n",
    "    if handler is not None: btn.on_click(handler)\n",
    "    if img_path is not None: btn.im_path = img_path\n",
    "    if style is not None: btn.button_style = style\n",
    "    return btn\n",
    "\n",
    "def make_img_widget(impath, layout=Layout(height='250px', width='300px'), format='jpg'):\n",
    "    return widgets.Image(value=impath2bytes(impath, IMG_SIZE), format=format, layout=layout)\n",
    "\n",
    "def make_vertical_box(children, layout=Layout(width='auto', height='100px', overflow_x=\"hidden\")):\n",
    "    return widgets.VBox(children, layout=layout)\n",
    "\n",
    "def make_horizontal_box(children, layout=Layout()):\n",
    "    return widgets.HBox(children, layout=layout)"
   ]
  },
  {
   "cell_type": "code",
   "execution_count": 5,
   "metadata": {},
   "outputs": [],
   "source": [
    "def make_img_widget(impath, layout=Layout(height='250px', width='300px'), format='jpg'):\n",
    "    return widgets.Image(value=impath2bytes(impath, IMG_SIZE), format=format, layout=layout)"
   ]
  },
  {
   "cell_type": "code",
   "execution_count": 6,
   "metadata": {},
   "outputs": [],
   "source": [
    "def make_vertical_box(children, layout=Layout(width='auto', height='100px', overflow_x=\"hidden\")):\n",
    "    return widgets.VBox(children, layout=layout)"
   ]
  },
  {
   "cell_type": "code",
   "execution_count": 7,
   "metadata": {},
   "outputs": [],
   "source": [
    "def make_horizontal_box(children, layout=Layout()):\n",
    "    return widgets.HBox(children, layout=layout)"
   ]
  },
  {
   "cell_type": "code",
   "execution_count": 8,
   "metadata": {},
   "outputs": [],
   "source": [
    "#export\n",
    "def change_btn_color(btn):\n",
    "    value = 'green' if btn.style.button_color == 'red' else 'red'\n",
    "    btn.style.button_color, btn.description = value, value"
   ]
  },
  {
   "cell_type": "code",
   "execution_count": 9,
   "metadata": {},
   "outputs": [],
   "source": [
    "#export\n",
    "def make_labeling_tab(desc, pred_score, true_score, pred_color, true_color):\n",
    "    name_lbl = widgets.Label(desc, layout=Layout(left='0', height='25px'))\n",
    "    pred_btn = make_button_widget(str(pred_score), layout=Layout(left='0', width='60px', height='25px'), color=pred_color)\n",
    "    true_btn = make_button_widget(str(true_score), layout=Layout(left='0', height='25px'), color=true_color, handler=change_btn_color)\n",
    "    return make_vertical_box([name_lbl, make_horizontal_box([pred_btn, true_btn])], layout=Layout(width='auto', height='60px', overflow_x=\"hidden\"))"
   ]
  },
  {
   "cell_type": "code",
   "execution_count": 10,
   "metadata": {},
   "outputs": [
    {
     "data": {
      "application/javascript": [
       "IPython.OutputArea.prototype._should_scroll = function(lines) { return false; }\n"
      ],
      "text/plain": [
       "<IPython.core.display.Javascript object>"
      ]
     },
     "metadata": {},
     "output_type": "display_data"
    }
   ],
   "source": [
    "%%javascript\n",
    "IPython.OutputArea.prototype._should_scroll = function(lines) { return false; }"
   ]
  },
  {
   "cell_type": "code",
   "execution_count": 11,
   "metadata": {},
   "outputs": [],
   "source": [
    "#export\n",
    "def get_json_labels(path, labels=None):\n",
    "    if not Path(path).exists(): return {lbl:None for lbl in labels}\n",
    "    j = json.load(open(path))\n",
    "    if labels is None: return j['labels']\n",
    "    return {lbl:j['labels'].get(lbl) for lbl in labels}"
   ]
  },
  {
   "cell_type": "code",
   "execution_count": 12,
   "metadata": {},
   "outputs": [],
   "source": [
    "#export\n",
    "bool2clr = lambda boolean, mode='': mode+'green' if boolean else mode+'red'\n",
    "round_nr = lambda f: int(f*100)\n",
    "\n",
    "def save_json(dictionary, path):\n",
    "    with open(path, 'w') as filepath:\n",
    "        json.dump(dictionary, filepath)\n",
    "\n",
    "class Labeler:\n",
    "    def __init__(self, bin_names=LABELS, image_paths=IMG_PATHS, output_dir=LABELS_DIRPATH, bs=4, label_labeled=False):\n",
    "        self.bs, self.bin_names, self.image_paths, self.output_dir, self.lbl_lbled = bs, bin_names, image_paths, output_dir, label_labeled\n",
    "        \n",
    "    def get_next_batch(self): # get images that are not already labeled (in labels dir)\n",
    "        self.next_batch = []\n",
    "        for path in map(Path, self.image_paths):\n",
    "            if self.lbl_lbled or (path.name not in [x.name[:-5] for x in self.output_dir.iterdir()]): # [:-5] to remove '.json' end\n",
    "                self.next_batch.append(path)\n",
    "            self.image_paths = self.image_paths[1:]\n",
    "            if len(self.next_batch) == self.bs: break\n",
    "        return self.next_batch\n",
    "        \n",
    "    def show_next_batch(self):\n",
    "        self.widget_list = []\n",
    "        next_batch = self.get_next_batch()\n",
    "        for path in next_batch:\n",
    "            img_widget = make_img_widget(path, layout=Layout(height='200px', width='200px')) # 500 ?\n",
    "            tabs = []\n",
    "            labels = get_json_labels(self.output_dir/(path.name+'.json'), self.bin_names)\n",
    "            for name, value in labels.items():\n",
    "                tabs.append(make_labeling_tab(name, '', value, 'white', value))\n",
    "            path_widget = widgets.Label(path.name, layout=Layout(left='0', height='25px'))\n",
    "            self.widget_list.append( make_vertical_box([path_widget, img_widget] + tabs, layout=Layout(height='auto')) )\n",
    "        display(make_horizontal_box(self.widget_list + [make_button_widget('next', layout=Layout(left='0'), handler=self.on_next_click)]))\n",
    "        \n",
    "    def on_next_click(self, btn):\n",
    "        parsed_output = self.parse_widget_list()\n",
    "        for path, labels in parsed_output:\n",
    "            fn = Path(path).name + '.json'\n",
    "            json = {'labels':labels, 'hash': hash(open(path))}\n",
    "            save_json(json, self.output_dir/fn)\n",
    "        clear_output()\n",
    "        self.show_next_batch()\n",
    "        \n",
    "        \n",
    "    def parse_widget_list(self): # returns list of (path, {'name':'red'/'green', 'name2':...}) tuple pairs (each elem is single image)\n",
    "        out = []\n",
    "        for widget, path in zip(self.widget_list, self.next_batch):\n",
    "            filepath_widget, img_widget, *tabs = widget.children\n",
    "            labels = {}\n",
    "            for tab in tabs:\n",
    "                name_widget, btns = tab.children\n",
    "                name = str(name_widget.value)\n",
    "                b1, b2 = btns.children\n",
    "                label = b2.style.button_color\n",
    "                labels[name] = label\n",
    "            out.append((path,labels))\n",
    "        return out"
   ]
  },
  {
   "cell_type": "code",
   "execution_count": 13,
   "metadata": {
    "scrolled": true
   },
   "outputs": [
    {
     "data": {
      "application/vnd.jupyter.widget-view+json": {
       "model_id": "3260f871db76434e92526b552eba3475",
       "version_major": 2,
       "version_minor": 0
      },
      "text/plain": [
       "HBox(children=(VBox(children=(Label(value='imdb_183277.jpg', layout=Layout(height='25px', left='0')), Image(va…"
      ]
     },
     "metadata": {},
     "output_type": "display_data"
    }
   ],
   "source": [
    "labeler = Labeler(LABELS, IMG_PATHS, LABELS_DIRPATH, bs=4, label_labeled=True)\n",
    "labeler.show_next_batch()"
   ]
  },
  {
   "cell_type": "code",
   "execution_count": 105,
   "metadata": {},
   "outputs": [],
   "source": [
    "bool2clr = lambda boolean, mode='': mode+'green' if boolean else mode+'red'\n",
    "round_nr = lambda f: int(f*100)"
   ]
  },
  {
   "cell_type": "code",
   "execution_count": 111,
   "metadata": {},
   "outputs": [
    {
     "data": {
      "text/plain": [
       "{'labels': {'MouthOpen': 'green'}, 'hash': 8726196546821}"
      ]
     },
     "execution_count": 111,
     "metadata": {},
     "output_type": "execute_result"
    }
   ],
   "source": [
    "# example:\n",
    "json.loads(open(labeler.output_dir/'00077897.jpg.json').read())"
   ]
  },
  {
   "cell_type": "code",
   "execution_count": null,
   "metadata": {},
   "outputs": [],
   "source": []
  },
  {
   "cell_type": "code",
   "execution_count": null,
   "metadata": {},
   "outputs": [],
   "source": []
  }
 ],
 "metadata": {
  "kernelspec": {
   "display_name": "nlp",
   "language": "python",
   "name": "nlp"
  },
  "language_info": {
   "codemirror_mode": {
    "name": "ipython",
    "version": 3
   },
   "file_extension": ".py",
   "mimetype": "text/x-python",
   "name": "python",
   "nbconvert_exporter": "python",
   "pygments_lexer": "ipython3",
   "version": "3.7.5"
  }
 },
 "nbformat": 4,
 "nbformat_minor": 2
}
