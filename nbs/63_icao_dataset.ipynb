{
 "cells": [
  {
   "cell_type": "code",
   "execution_count": 1,
   "metadata": {},
   "outputs": [],
   "source": [
    "#default_exp icao_datasets"
   ]
  },
  {
   "cell_type": "code",
   "execution_count": 5,
   "metadata": {},
   "outputs": [],
   "source": [
    "#export\n",
    "from fastai import *\n",
    "from fastai.vision import *\n",
    "from pathlib import PosixPath\n",
    "import cv2\n",
    "from shutil import copyfile"
   ]
  },
  {
   "cell_type": "code",
   "execution_count": 6,
   "metadata": {},
   "outputs": [],
   "source": [
    "import matplotlib.pyplot as plt\n",
    "\n",
    "def plot(im, figsize=None): # im - np.arr(h,w,3), figsize - tuple(2)\n",
    "    ax = plt.figure(figsize=figsize)\n",
    "    if len(im.squeeze().shape) == 2: plt.imshow(im, cmap='gray')\n",
    "    else: plt.imshow(im)\n",
    "    return plt.show()\n",
    "\n",
    "def plot_histogram(arr, title=None, bins=None): # arr of size [n], bins-'auto'\n",
    "    _ = plt.hist(arr, bins=bins)  # arguments are passed to np.histogram\n",
    "    plt.title(title)\n",
    "    plt.show()\n",
    "    \n",
    "def plot_categories(names, values, title='names'): # arr of size [n]\n",
    "    df = pd.DataFrame({title:listify(names), 'val':listify(values)})\n",
    "    df.plot.bar(x=title, y='val', rot=90)\n",
    "\n",
    "# plot_histogram( np.random.RandomState(10).normal(size=1000) )\n",
    "# plot_categories(['a','b','c'], [1,2,3])"
   ]
  },
  {
   "cell_type": "markdown",
   "metadata": {},
   "source": [
    "### VGG2 face bboxes"
   ]
  },
  {
   "cell_type": "code",
   "execution_count": 42,
   "metadata": {},
   "outputs": [
    {
     "data": {
      "text/html": [
       "\n",
       "    <div>\n",
       "        <style>\n",
       "            /* Turns off some styling */\n",
       "            progress {\n",
       "                /* gets rid of default border in Firefox and Opera. */\n",
       "                border: none;\n",
       "                /* Needs to be in here for Safari polyfill so background images work as expected. */\n",
       "                background-size: auto;\n",
       "            }\n",
       "            .progress-bar-interrupted, .progress-bar-interrupted::-webkit-progress-bar {\n",
       "                background: #F44336;\n",
       "            }\n",
       "        </style>\n",
       "      <progress value='3141890' class='' max='3141890', style='width:300px; height:20px; vertical-align: middle;'></progress>\n",
       "      100.00% [3141890/3141890 00:07<00:00]\n",
       "    </div>\n",
       "    "
      ],
      "text/plain": [
       "<IPython.core.display.HTML object>"
      ]
     },
     "metadata": {},
     "output_type": "display_data"
    }
   ],
   "source": [
    "bb_path = Path('/data/faces/VGG2/bb_landmark/loose_bb_train.csv')\n",
    "vgg_im2bbox = {} # NOTE: key is w/out stem (.jpg) -> t,l,b,r\n",
    "for i,line in enumerate(progress_bar(open(bb_path).readlines()[1:])):\n",
    "    im_name, x,y,w,h = line[:-1].split(',')\n",
    "    x,y,w,h = map(int, [x,y,w,h])\n",
    "    vgg_im2bbox[im_name[1:-1]] = (max(y,0),max(x,0),y+h,x+w)"
   ]
  },
  {
   "cell_type": "markdown",
   "metadata": {},
   "source": [
    "# MouthOpen"
   ]
  },
  {
   "cell_type": "code",
   "execution_count": 10,
   "metadata": {},
   "outputs": [
    {
     "name": "stdout",
     "output_type": "stream",
     "text": [
      "dirs already exist\n"
     ]
    }
   ],
   "source": [
    "out_path = Path('../data/icao/mouthopen_frontal_vgg/')\n",
    "MOUTH_OPEN, MOUTH_CLOSED = 'MouthOpen', 'MouthClosed'\n",
    "try: (out_path/MOUTH_CLOSED).mkdir(); (out_path/MOUTH_OPEN).mkdir()\n",
    "except: print('dirs already exist')"
   ]
  },
  {
   "cell_type": "code",
   "execution_count": null,
   "metadata": {},
   "outputs": [],
   "source": [
    "def prepare_dataset():\n",
    "    out_path = Path('../data/icao/mouthopen/')\n",
    "    vgg_train_path = Path('/data/faces/VGG2/train/')\n",
    "    vgg_attr_path = Path('/data/faces/VGG2/attributes/11-Mouth_Open.txt')\n",
    "    doesnt_exist = 0\n",
    "    ims = []\n",
    "    for line in progress_bar(open(vgg_attr_path).readlines()):\n",
    "        img_str, lbl_str = line[:-1].split('\\t')\n",
    "        ims.append(img_str)\n",
    "        label = MOUTH_OPEN if lbl_str == '1' else MOUTH_CLOSED\n",
    "        img_path = vgg_train_path/img_str\n",
    "        if not img_path.exists(): doesnt_exist += 1\n",
    "        else:\n",
    "            t,l,b,r = vgg_im2bbox[ img_str[:-4] ]\n",
    "            image = Image(open_image(img_path).data[:,t:b,l:r])\n",
    "            image.save(out_path/label/'_'.join(img_str.split('/')))\n",
    "    print('doesnt exist:', doesnt_exist)\n",
    "# prepare_dataset()"
   ]
  },
  {
   "cell_type": "code",
   "execution_count": null,
   "metadata": {},
   "outputs": [],
   "source": [
    "images_dir = Path('../data/vgg_frontal_faces_hd/')\n",
    "frontal_faces = [str(x).split('/')[-1] for x in images_dir.iterdir()] # personid_imgid.jpg"
   ]
  },
  {
   "cell_type": "code",
   "execution_count": null,
   "metadata": {},
   "outputs": [],
   "source": [
    "def prepare_frontal_dataset():\n",
    "    out_path = Path('../data/icao/mouthopen_frontal_vgg/')\n",
    "    vgg_train_path = Path('/data/faces/VGG2/train/')\n",
    "    vgg_attr_path = Path('/data/faces/VGG2/attributes/11-Mouth_Open.txt')\n",
    "    not_frontal = 0\n",
    "    ims = []\n",
    "    for line in progress_bar(open(vgg_attr_path).readlines()):\n",
    "        img_str, lbl_str = line[:-1].split('\\t')\n",
    "        ims.append(img_str)\n",
    "        label = MOUTH_OPEN if lbl_str == '1' else MOUTH_CLOSED\n",
    "        img_path = vgg_train_path/img_str\n",
    "        if img_str.replace('/','_') not in frontal_faces: not_frontal += 1\n",
    "        else:\n",
    "            t,l,b,r = vgg_im2bbox[ img_str[:-4] ]\n",
    "            image = Image(open_image(img_path).data[:,t:b,l:r])\n",
    "            image.save(out_path/label/'_'.join(img_str.split('/')))\n",
    "    print('not_frontal:', not_frontal)\n",
    "# prepare_frontal_dataset()"
   ]
  },
  {
   "cell_type": "markdown",
   "metadata": {},
   "source": [
    "### MouthOpen TestData"
   ]
  },
  {
   "cell_type": "code",
   "execution_count": 34,
   "metadata": {},
   "outputs": [],
   "source": [
    "testdata_dir = Path('../data/icao/mouthopen_testdata/')"
   ]
  },
  {
   "cell_type": "code",
   "execution_count": 35,
   "metadata": {},
   "outputs": [
    {
     "data": {
      "application/vnd.jupyter.widget-view+json": {
       "model_id": "9688fb306e494aac9d3a8d386a2b8310",
       "version_major": 2,
       "version_minor": 0
      },
      "text/plain": [
       "HBox(children=(VBox(children=(Label(value='137957.jpg', layout=Layout(height='25px', left='0')), Image(value=b…"
      ]
     },
     "metadata": {},
     "output_type": "display_data"
    }
   ],
   "source": [
    "from facelib.labeling_icao import Labeler\n",
    "openmouth_imagedir = Path('../data/icao/mouthopen_celeba_black/MouthOpen/')\n",
    "images = [str(path) for path in openmouth_imagedir.iterdir()]\n",
    "json_outputdir = Path('../data/icao/json_labels_mouthslightlyopen/')\n",
    "labeler = Labeler(['MouthSlightlyOpen'], images, output_dir=json_outputdir, label_labeled=False)\n",
    "labeler.show_next_batch()"
   ]
  },
  {
   "cell_type": "code",
   "execution_count": 36,
   "metadata": {},
   "outputs": [],
   "source": [
    "openmouth_imagedir = Path('../data/face/cropped_celeba/')"
   ]
  },
  {
   "cell_type": "code",
   "execution_count": 37,
   "metadata": {},
   "outputs": [
    {
     "data": {
      "text/plain": [
       "102"
      ]
     },
     "execution_count": 37,
     "metadata": {},
     "output_type": "execute_result"
    }
   ],
   "source": [
    "good_im_names = [path.name[:-5] for path in json_outputdir.iterdir() if json.load(open(path))['labels']['MouthSlightlyOpen'] == 'green']\n",
    "len(good_im_names)"
   ]
  },
  {
   "cell_type": "code",
   "execution_count": 38,
   "metadata": {},
   "outputs": [],
   "source": [
    "for name in good_im_names: open_image(openmouth_imagedir/name).save(testdata_dir/MOUTH_OPEN/name)"
   ]
  },
  {
   "cell_type": "markdown",
   "metadata": {},
   "source": [
    "### MouthClosed TestData"
   ]
  },
  {
   "cell_type": "code",
   "execution_count": 26,
   "metadata": {},
   "outputs": [],
   "source": [
    "from facenet_pytorch import MTCNN\n",
    "mtcnn = MTCNN(\n",
    "    image_size=224, margin=0, min_face_size=20,\n",
    "    thresholds=[0.6, 0.7, 0.7], factor=0.709, post_process=False,\n",
    "    device='cpu'\n",
    ")\n",
    "\n",
    "from torchvision import datasets\n",
    "class ImagesWithPath(datasets.ImageFolder):\n",
    "    def __getitem__(self, index):\n",
    "        original_tuple = super().__getitem__(index)\n",
    "        path = self.imgs[index][0]\n",
    "        return (original_tuple + (path,))\n",
    "    \n",
    "def create_cropped_images(loader, output_dir):\n",
    "    not_found_names = []\n",
    "    for x, y, path in progress_bar(loader):\n",
    "        name = Path(path).name\n",
    "        try:Image(mtcnn(x)/255.).save(str(output_dir/name))\n",
    "        except: not_found_names.append(Path(path).name)\n",
    "    return not_found_names"
   ]
  },
  {
   "cell_type": "code",
   "execution_count": 31,
   "metadata": {},
   "outputs": [],
   "source": [
    "mouthclosed_dirpath = Path('/data/faces/IC_6K_MATCHES/HITS/')\n",
    "dataset = ImagesWithPath(str(mouthclosed_dirpath.parent))\n",
    "dataset.idx_to_class = {i:c for c, i in dataset.class_to_idx.items()}\n",
    "loader = DataLoader(dataset, collate_fn=lambda x: x[0], num_workers=1)\n",
    "create_cropped_images(loader, testdata_dir/MOUTH_CLOSED)"
   ]
  },
  {
   "cell_type": "code",
   "execution_count": 32,
   "metadata": {},
   "outputs": [],
   "source": [
    "from facelib.core import read_dict, save_dict\n",
    "save_dict(list(map(lambda p:p.name, get_image_files(testdata_dir, recurse=True))), '../data/icao/mouthopen_testdata.pkl')"
   ]
  },
  {
   "cell_type": "markdown",
   "metadata": {},
   "source": [
    "# Glasses"
   ]
  },
  {
   "cell_type": "code",
   "execution_count": 39,
   "metadata": {},
   "outputs": [],
   "source": [
    "SUNGLASSES, EYEGLASSES, NOGLASSES = 'SunGlasses', 'EyeGlasses', 'NoGlasses'"
   ]
  },
  {
   "cell_type": "code",
   "execution_count": 43,
   "metadata": {},
   "outputs": [
    {
     "data": {
      "text/html": [
       "\n",
       "    <div>\n",
       "        <style>\n",
       "            /* Turns off some styling */\n",
       "            progress {\n",
       "                /* gets rid of default border in Firefox and Opera. */\n",
       "                border: none;\n",
       "                /* Needs to be in here for Safari polyfill so background images work as expected. */\n",
       "                background-size: auto;\n",
       "            }\n",
       "            .progress-bar-interrupted, .progress-bar-interrupted::-webkit-progress-bar {\n",
       "                background: #F44336;\n",
       "            }\n",
       "        </style>\n",
       "      <progress value='30000' class='' max='30000', style='width:300px; height:20px; vertical-align: middle;'></progress>\n",
       "      100.00% [30000/30000 01:06<00:00]\n",
       "    </div>\n",
       "    "
      ],
      "text/plain": [
       "<IPython.core.display.HTML object>"
      ]
     },
     "metadata": {},
     "output_type": "display_data"
    },
    {
     "name": "stdout",
     "output_type": "stream",
     "text": [
      "doesnt exist: 0\n"
     ]
    }
   ],
   "source": [
    "def prepare_glasses_dataset():\n",
    "    out_path = Path('../data/icao/glasses_vgg/')\n",
    "    vgg_train_path = Path('/data/faces/VGG2/train/')\n",
    "    vgg_attr_eyeglasses_path = Path('/data/faces/VGG2/attributes/09-Eyeglasses.txt')\n",
    "    vgg_attr_sunglasses_path = Path('/data/faces/VGG2/attributes/10-Sunglasses.txt')\n",
    "    doesnt_exist = 0\n",
    "    ims = []\n",
    "    sun_lines, eye_lines = map(lambda path: open(path).readlines(), [vgg_attr_sunglasses_path, vgg_attr_eyeglasses_path])\n",
    "    for sun_line, eye_line in progress_bar(list(zip(sun_lines, eye_lines))):\n",
    "        img_str_eye, lbl_str_eye = eye_line[:-1].split('\\t')\n",
    "        img_str_sun, lbl_str_sun = sun_line[:-1].split('\\t')\n",
    "        assert img_str_eye == img_str_sun\n",
    "        img_str = img_str_eye\n",
    "        ims.append(img_str)\n",
    "        label = EYEGLASSES if lbl_str_eye == '1' else NOGLASSES\n",
    "        if lbl_str_sun == '1': label = SUNGLASSES\n",
    "        img_path = vgg_train_path/img_str\n",
    "        if not img_path.exists(): doesnt_exist += 1\n",
    "        else:\n",
    "            t,l,b,r = vgg_im2bbox[ img_str[:-4] ]\n",
    "            image = Image(open_image(img_path).data[:,t:b,l:r])\n",
    "            image.save(out_path/label/'_'.join(img_str.split('/')))\n",
    "    print('doesnt exist:', doesnt_exist)\n",
    "prepare_glasses_dataset()"
   ]
  },
  {
   "cell_type": "markdown",
   "metadata": {},
   "source": [
    "# LookingAway"
   ]
  },
  {
   "cell_type": "code",
   "execution_count": 73,
   "metadata": {},
   "outputs": [],
   "source": [
    "def read_json(data_name, first=True):\n",
    "    out = {}\n",
    "    FACE_PATH = Path(\"/data/faces/\")\n",
    "    PATH = FACE_PATH/\"unlabeled\"\n",
    "    for file_path in PATH.iterdir():\n",
    "        fn = str(file_path).split('/')[-1]\n",
    "        if fn.startswith('labels_'+data_name):\n",
    "            if first:\n",
    "                out.update( json.load(open(file_path)) )\n",
    "                first = False\n",
    "            else:\n",
    "                out['images'].extend( json.load(open(file_path))['images'] )\n",
    "    return out"
   ]
  },
  {
   "cell_type": "code",
   "execution_count": 80,
   "metadata": {},
   "outputs": [],
   "source": [
    "data_name = 'fc'\n",
    "j = read_json(data_name)\n",
    "# images_dirpath = Path(\"/data/faces/unlabeled/images_\"+data_name)\n",
    "images_dirpath = Path(\"/data/faces/unlabeled/images\")"
   ]
  },
  {
   "cell_type": "code",
   "execution_count": 129,
   "metadata": {},
   "outputs": [],
   "source": [
    "def parse_points(pts_string):\n",
    "    ''' 'x,y,w,h' or 'x,y' '''\n",
    "    return list(map(int, pts_string.split(',')))"
   ]
  },
  {
   "cell_type": "code",
   "execution_count": 157,
   "metadata": {},
   "outputs": [],
   "source": [
    "def get_lookingaway_images(data_name):\n",
    "    j = read_json(data_name)\n",
    "    # images_dirpath = Path(\"/data/faces/unlabeled/images_\"+data_name)\n",
    "    images_dirpath = Path(\"/data/faces/unlabeled/images\")\n",
    "    lbl2idx = {v:k for k,v in j['face_args'].items()}\n",
    "    icaos = [(x['path'], x['faces'][0][lbl2idx['IcaoWarnings']], x['faces'][0][lbl2idx['LookingAwayConfidence']], \n",
    "              parse_points(x['faces'][0][lbl2idx['BoundingRect']])) for x in j['images']]\n",
    "    lookingaway_images = [(images_dirpath/name,bb) for name,x,conf,bb in icaos if ('LookingAway' in x and -1 < conf and conf < 10)]\n",
    "    lookingtocamera_images = [(images_dirpath/name,bb) for name,x,conf,bb in icaos if ('LookingAway' not in x and 85 < conf and conf < 101)]\n",
    "    return lookingtocamera_images, lookingaway_images"
   ]
  },
  {
   "cell_type": "code",
   "execution_count": 165,
   "metadata": {},
   "outputs": [],
   "source": [
    "lookingtocamera_images_all, lookingaway_images_all = [], []"
   ]
  },
  {
   "cell_type": "code",
   "execution_count": 166,
   "metadata": {},
   "outputs": [
    {
     "data": {
      "text/plain": [
       "(1490, 1047)"
      ]
     },
     "execution_count": 166,
     "metadata": {},
     "output_type": "execute_result"
    }
   ],
   "source": [
    "lookingtocamera_images, lookingaway_images = get_lookingaway_images('fc')\n",
    "lookingtocamera_images_all += lookingtocamera_images\n",
    "lookingaway_images_all += lookingaway_images\n",
    "len(lookingtocamera_images), len(lookingaway_images)"
   ]
  },
  {
   "cell_type": "code",
   "execution_count": 167,
   "metadata": {},
   "outputs": [
    {
     "data": {
      "text/plain": [
       "(2519, 4682)"
      ]
     },
     "execution_count": 167,
     "metadata": {},
     "output_type": "execute_result"
    }
   ],
   "source": [
    "lookingtocamera_images, lookingaway_images = get_lookingaway_images('imdb')\n",
    "lookingtocamera_images_all += lookingtocamera_images\n",
    "lookingaway_images_all += lookingaway_images\n",
    "len(lookingtocamera_images), len(lookingaway_images)"
   ]
  },
  {
   "cell_type": "code",
   "execution_count": 168,
   "metadata": {},
   "outputs": [
    {
     "data": {
      "text/plain": [
       "(818, 467)"
      ]
     },
     "execution_count": 168,
     "metadata": {},
     "output_type": "execute_result"
    }
   ],
   "source": [
    "lookingtocamera_images, lookingaway_images = get_lookingaway_images('wiki')\n",
    "lookingtocamera_images_all += lookingtocamera_images\n",
    "lookingaway_images_all += lookingaway_images\n",
    "len(lookingtocamera_images), len(lookingaway_images)"
   ]
  },
  {
   "cell_type": "code",
   "execution_count": 169,
   "metadata": {},
   "outputs": [
    {
     "data": {
      "text/plain": [
       "(243, 415)"
      ]
     },
     "execution_count": 169,
     "metadata": {},
     "output_type": "execute_result"
    }
   ],
   "source": [
    "lookingtocamera_images, lookingaway_images = get_lookingaway_images('lfw')\n",
    "lookingtocamera_images_all += lookingtocamera_images\n",
    "lookingaway_images_all += lookingaway_images\n",
    "len(lookingtocamera_images), len(lookingaway_images)"
   ]
  },
  {
   "cell_type": "code",
   "execution_count": 170,
   "metadata": {},
   "outputs": [
    {
     "data": {
      "text/plain": [
       "(5070, 6611)"
      ]
     },
     "execution_count": 170,
     "metadata": {},
     "output_type": "execute_result"
    }
   ],
   "source": [
    "len(lookingtocamera_images_all), len(lookingaway_images_all)"
   ]
  },
  {
   "cell_type": "code",
   "execution_count": 163,
   "metadata": {},
   "outputs": [
    {
     "data": {
      "image/png": "[encoded data removed]",
      "text/plain": [
       "<Figure size 216x216 with 1 Axes>"
      ]
     },
     "metadata": {
      "needs_background": "light"
     },
     "output_type": "display_data"
    }
   ],
   "source": [
    "im_path, bb = lookingaway_images[15]\n",
    "image = open_image(im_path)\n",
    "image.show(y=ImageBBox.create(*image.size, tensor(bb)[None], scale=True))"
   ]
  },
  {
   "cell_type": "code",
   "execution_count": 138,
   "metadata": {},
   "outputs": [],
   "source": [
    "def pad_points(bbox, pad): # pad - tensor([4])\n",
    "    t,l,b,r = bbox\n",
    "    h_face, w_face = map(int, [b-t, r-l])\n",
    "    cc = tensor([(t+b)//2, (l+r)//2])\n",
    "    offset = (tensor(bbox) - torch.cat([cc,cc])).abs()\n",
    "    offset = (offset * PAD_PCT).long() # scale\n",
    "    cc = torch.cat([cc,cc])\n",
    "    t,l = cc[:2] - offset[:2]\n",
    "    b,r = cc[2:] + offset[2:]\n",
    "    return list(map(int, [t,l,b,r]))"
   ]
  },
  {
   "cell_type": "code",
   "execution_count": 173,
   "metadata": {},
   "outputs": [
    {
     "data": {
      "text/html": [
       "\n",
       "    <div>\n",
       "        <style>\n",
       "            /* Turns off some styling */\n",
       "            progress {\n",
       "                /* gets rid of default border in Firefox and Opera. */\n",
       "                border: none;\n",
       "                /* Needs to be in here for Safari polyfill so background images work as expected. */\n",
       "                background-size: auto;\n",
       "            }\n",
       "            .progress-bar-interrupted, .progress-bar-interrupted::-webkit-progress-bar {\n",
       "                background: #F44336;\n",
       "            }\n",
       "        </style>\n",
       "      <progress value='6611' class='' max='6611', style='width:300px; height:20px; vertical-align: middle;'></progress>\n",
       "      100.00% [6611/6611 00:22<00:00]\n",
       "    </div>\n",
       "    "
      ],
      "text/plain": [
       "<IPython.core.display.HTML object>"
      ]
     },
     "metadata": {},
     "output_type": "display_data"
    },
    {
     "data": {
      "text/html": [
       "\n",
       "    <div>\n",
       "        <style>\n",
       "            /* Turns off some styling */\n",
       "            progress {\n",
       "                /* gets rid of default border in Firefox and Opera. */\n",
       "                border: none;\n",
       "                /* Needs to be in here for Safari polyfill so background images work as expected. */\n",
       "                background-size: auto;\n",
       "            }\n",
       "            .progress-bar-interrupted, .progress-bar-interrupted::-webkit-progress-bar {\n",
       "                background: #F44336;\n",
       "            }\n",
       "        </style>\n",
       "      <progress value='5070' class='' max='5070', style='width:300px; height:20px; vertical-align: middle;'></progress>\n",
       "      100.00% [5070/5070 00:19<00:00]\n",
       "    </div>\n",
       "    "
      ],
      "text/plain": [
       "<IPython.core.display.HTML object>"
      ]
     },
     "metadata": {},
     "output_type": "display_data"
    }
   ],
   "source": [
    "PAD_PCT = tensor([1.4,1.1,1.1,1.1]) # t,l,b,r\n",
    "out_path = Path('../data/icao/lookingaway_unlabeled/')\n",
    "for images_and_bboxes, data_name in [(lookingaway_images_all,'LookingAway'), (lookingtocamera_images_all, 'LookingAhead')]:\n",
    "    for im_path, (t,l,b,r) in progress_bar(images_and_bboxes):\n",
    "        image = open_image(im_path)\n",
    "        t,l,b,r = pad_points((t,l,b,r), PAD_PCT)\n",
    "        t,l,b,r = max(t,0), max(l,0), min(b,image.data.shape[1]), min(r,image.data.shape[2])\n",
    "        Image(image.data[:,t:b,l:r]).save(out_path/data_name/im_path.name)"
   ]
  },
  {
   "cell_type": "markdown",
   "metadata": {},
   "source": [
    "# DarkFace"
   ]
  },
  {
   "cell_type": "code",
   "execution_count": null,
   "metadata": {},
   "outputs": [],
   "source": [
    "images_dir = Path('/data/faces/CELEBA/images/img_align_celeba/')\n",
    "for im_path in get_image_files(images_dir):\n",
    "    image = open_image(im_path)\n",
    "#     image.apply_tfms([crop_pad()], size=224, resize_method=ResizeMethod.CROP, padding_mode='zeros')\n",
    "    if random.random() > 0.5: data_name = 'BrightFace'\n",
    "    else: image, data_name = brightness(image, random.random()*0.2+0.05), 'DarkFace'\n",
    "    image.show()\n",
    "    break"
   ]
  },
  {
   "cell_type": "markdown",
   "metadata": {},
   "source": [
    "# LFW"
   ]
  },
  {
   "cell_type": "code",
   "execution_count": 12,
   "metadata": {},
   "outputs": [],
   "source": [
    "from facenet_pytorch import MTCNN\n",
    "mtcnn = MTCNN(\n",
    "    image_size=224, margin=0, min_face_size=20,\n",
    "    thresholds=[0.6, 0.7, 0.7], factor=0.709, post_process=False,\n",
    "    device='cuda'\n",
    ")\n",
    "\n",
    "from torchvision import datasets\n",
    "class ImagesWithPath(datasets.ImageFolder):\n",
    "    def __getitem__(self, index):\n",
    "        original_tuple = super().__getitem__(index)\n",
    "        path = self.imgs[index][0]\n",
    "        return (original_tuple + (path,))\n",
    "    \n",
    "def create_cropped_images(loader, output_dir):\n",
    "    not_found_names = []\n",
    "    for x, y, path in progress_bar(loader):\n",
    "        name = Path(path).name\n",
    "        try:Image(mtcnn(x)/255.).save(str(output_dir/name))\n",
    "        except: not_found_names.append(Path(path).name)\n",
    "    return not_found_names"
   ]
  },
  {
   "cell_type": "code",
   "execution_count": 19,
   "metadata": {},
   "outputs": [],
   "source": [
    "lfw_images_dir = Path('/data/faces/LFW/lfw/')\n",
    "lfw_cropped_dir = Path('../data/face/lfw_cropped_images/')"
   ]
  },
  {
   "cell_type": "code",
   "execution_count": 20,
   "metadata": {},
   "outputs": [
    {
     "data": {
      "text/html": [
       "\n",
       "    <div>\n",
       "        <style>\n",
       "            /* Turns off some styling */\n",
       "            progress {\n",
       "                /* gets rid of default border in Firefox and Opera. */\n",
       "                border: none;\n",
       "                /* Needs to be in here for Safari polyfill so background images work as expected. */\n",
       "                background-size: auto;\n",
       "            }\n",
       "            .progress-bar-interrupted, .progress-bar-interrupted::-webkit-progress-bar {\n",
       "                background: #F44336;\n",
       "            }\n",
       "        </style>\n",
       "      <progress value='13233' class='' max='13233', style='width:300px; height:20px; vertical-align: middle;'></progress>\n",
       "      100.00% [13233/13233 03:42<00:00]\n",
       "    </div>\n",
       "    "
      ],
      "text/plain": [
       "<IPython.core.display.HTML object>"
      ]
     },
     "metadata": {},
     "output_type": "display_data"
    },
    {
     "data": {
      "text/plain": [
       "[]"
      ]
     },
     "execution_count": 20,
     "metadata": {},
     "output_type": "execute_result"
    }
   ],
   "source": [
    "dataset = ImagesWithPath(str(lfw_images_dir))\n",
    "dataset.idx_to_class = {i:c for c, i in dataset.class_to_idx.items()}\n",
    "loader = DataLoader(dataset, collate_fn=lambda x: x[0], num_workers=1)\n",
    "create_cropped_images(loader, lfw_cropped_dir)"
   ]
  },
  {
   "cell_type": "markdown",
   "metadata": {},
   "source": [
    "# OpenEyes"
   ]
  },
  {
   "cell_type": "code",
   "execution_count": 65,
   "metadata": {},
   "outputs": [],
   "source": [
    "lfw_cropped_images_dir = Path('../data/face/lfw_cropped_images/')\n",
    "attr_path = Path('/data/faces/LFW/lfw_attributes.txt')"
   ]
  },
  {
   "cell_type": "code",
   "execution_count": 66,
   "metadata": {},
   "outputs": [
    {
     "name": "stdout",
     "output_type": "stream",
     "text": [
      "['person', 'imagenum', 'Male', 'Asian', 'White', 'Black', 'Baby', 'Child', 'Youth', 'Middle Aged', 'Senior', 'Black Hair', 'Blond Hair', 'Brown Hair', 'Bald', 'No Eyewear', 'Eyeglasses', 'Sunglasses', 'Mustache', 'Smiling', 'Frowning', 'Chubby', 'Blurry', 'Harsh Lighting', 'Flash', 'Soft Lighting', 'Outdoor', 'Curly Hair', 'Wavy Hair', 'Straight Hair', 'Receding Hairline', 'Bangs', 'Sideburns', 'Fully Visible Forehead', 'Partially Visible Forehead', 'Obstructed Forehead', 'Bushy Eyebrows', 'Arched Eyebrows', 'Narrow Eyes', 'Eyes Open', 'Big Nose', 'Pointy Nose', 'Big Lips', 'Mouth Closed', 'Mouth Slightly Open', 'Mouth Wide Open', 'Teeth Not Visible', 'No Beard', 'Goatee', 'Round Jaw', 'Double Chin', 'Wearing Hat', 'Oval Face', 'Square Face', 'Round Face', 'Color Photo', 'Posed Photo', 'Attractive Man', 'Attractive Woman', 'Indian', 'Gray Hair', 'Bags Under Eyes', 'Heavy Makeup', 'Rosy Cheeks', 'Shiny Skin', 'Pale Skin', \"5 o' Clock Shadow\", 'Strong Nose-Mouth Lines', 'Wearing Lipstick', 'Flushed Face', 'High Cheekbones', 'Brown Eyes', 'Wearing Earrings', 'Wearing Necktie', 'Wearing Necklace']\n"
     ]
    }
   ],
   "source": [
    "attr_names = open(attr_path).readlines()[1][2:-1].split('\\t')\n",
    "print(attr_names)"
   ]
  },
  {
   "cell_type": "code",
   "execution_count": 67,
   "metadata": {},
   "outputs": [
    {
     "data": {
      "text/plain": [
       "39"
      ]
     },
     "execution_count": 67,
     "metadata": {},
     "output_type": "execute_result"
    }
   ],
   "source": [
    "idx = lambda name: attr_names.index(name)\n",
    "idx('Eyes Open')"
   ]
  },
  {
   "cell_type": "code",
   "execution_count": 68,
   "metadata": {},
   "outputs": [],
   "source": [
    "def append_zeros(s, num_chars=4):\n",
    "    while True:\n",
    "        if len(s) == num_chars: return s\n",
    "        s = '0' + s"
   ]
  },
  {
   "cell_type": "code",
   "execution_count": 91,
   "metadata": {},
   "outputs": [],
   "source": [
    "def print_stats(number_list):\n",
    "    x = np.array(number_list)\n",
    "    print(f'num elems: {len(x)}')\n",
    "    print(f'max: {x.max()}, min: {x.min()}')\n",
    "    print(f'>0: {(x>0).sum()}, <0: {(x<0).sum()}')"
   ]
  },
  {
   "cell_type": "code",
   "execution_count": 70,
   "metadata": {},
   "outputs": [],
   "source": [
    "def normalize_vals(number_list):\n",
    "    x = np.array(number_list)\n",
    "    x[x>0] =  x[x>0]/x.max()\n",
    "    x[x<0] = -x[x<0]/x.min()\n",
    "    return x"
   ]
  },
  {
   "cell_type": "code",
   "execution_count": 71,
   "metadata": {},
   "outputs": [],
   "source": [
    "def get_lfw_attributes(attribute='Eyes Open'):\n",
    "    attr_images = []\n",
    "    for line in open(attr_path).readlines()[2:]:\n",
    "        attrs = line[:-1].split('\\t')\n",
    "        person, _id, eyes_open = map(lambda name: attrs[idx(name)], ('person','imagenum',attribute))\n",
    "        person, _id = person.replace(' ', '_'), append_zeros(_id)\n",
    "        im_path = lfw_cropped_images_dir/(person+'_'+_id+'.jpg')\n",
    "        assert im_path.exists()\n",
    "        attr_images.append((im_path, float(eyes_open)))\n",
    "    return attr_images"
   ]
  },
  {
   "cell_type": "code",
   "execution_count": 96,
   "metadata": {},
   "outputs": [
    {
     "name": "stdout",
     "output_type": "stream",
     "text": [
      "num elems: 13143\n",
      "max: 3.80094866407, min: -2.43275558472\n",
      ">0: 11334, <0: 1809\n"
     ]
    },
    {
     "data": {
      "image/png": "[encoded data removed]",
      "text/plain": [
       "<Figure size 432x288 with 1 Axes>"
      ]
     },
     "metadata": {
      "needs_background": "light"
     },
     "output_type": "display_data"
    }
   ],
   "source": [
    "eye_open_images = get_lfw_attributes('Eyes Open')\n",
    "print_stats([val for p,val in eye_open_images])\n",
    "eye_open_values = normalize_vals([val for p,val in eye_open_images])\n",
    "plot_histogram(eye_open_values[eye_open_values>0])\n",
    "# print_stats(eye_open_values)\n",
    "eye_open_images = [(p,val) for val, (p,_) in zip(eye_open_values, eye_open_images)]"
   ]
  },
  {
   "cell_type": "code",
   "execution_count": 98,
   "metadata": {},
   "outputs": [
    {
     "data": {
      "text/html": [
       "\n",
       "    <div>\n",
       "        <style>\n",
       "            /* Turns off some styling */\n",
       "            progress {\n",
       "                /* gets rid of default border in Firefox and Opera. */\n",
       "                border: none;\n",
       "                /* Needs to be in here for Safari polyfill so background images work as expected. */\n",
       "                background-size: auto;\n",
       "            }\n",
       "            .progress-bar-interrupted, .progress-bar-interrupted::-webkit-progress-bar {\n",
       "                background: #F44336;\n",
       "            }\n",
       "        </style>\n",
       "      <progress value='13143' class='' max='13143', style='width:300px; height:20px; vertical-align: middle;'></progress>\n",
       "      100.00% [13143/13143 00:11<00:00]\n",
       "    </div>\n",
       "    "
      ],
      "text/plain": [
       "<IPython.core.display.HTML object>"
      ]
     },
     "metadata": {},
     "output_type": "display_data"
    }
   ],
   "source": [
    "output_dir = Path('../data/icao/eyesopen_lfw/')\n",
    "for im_path,val in progress_bar(eye_open_images):\n",
    "    data_name = 'EyesOpen' if val > 0 else 'EyesClosed'\n",
    "    if data_name == 'EyesOpen' and val < 0.3: continue\n",
    "    open_image(im_path).save(output_dir/data_name/im_path.name)"
   ]
  },
  {
   "cell_type": "markdown",
   "metadata": {},
   "source": [
    "# Flash"
   ]
  },
  {
   "cell_type": "code",
   "execution_count": 62,
   "metadata": {},
   "outputs": [
    {
     "name": "stdout",
     "output_type": "stream",
     "text": [
      "num elems: 13143\n",
      "max: 1.70016841361, min: -2.0701617919\n",
      ">0: 2482, <=0: 10661\n"
     ]
    },
    {
     "data": {
      "image/png": "[encoded data removed]",
      "text/plain": [
       "<Figure size 432x288 with 1 Axes>"
      ]
     },
     "metadata": {
      "needs_background": "light"
     },
     "output_type": "display_data"
    }
   ],
   "source": [
    "flash_images = get_lfw_attributes('Flash')\n",
    "print_stats([val for p,val in flash_images])\n",
    "flash_values = normalize_vals([val for p,val in flash_images])\n",
    "plot_histogram(flash_values[flash_values>0])"
   ]
  },
  {
   "cell_type": "code",
   "execution_count": 63,
   "metadata": {},
   "outputs": [
    {
     "data": {
      "text/html": [
       "\n",
       "    <div>\n",
       "        <style>\n",
       "            /* Turns off some styling */\n",
       "            progress {\n",
       "                /* gets rid of default border in Firefox and Opera. */\n",
       "                border: none;\n",
       "                /* Needs to be in here for Safari polyfill so background images work as expected. */\n",
       "                background-size: auto;\n",
       "            }\n",
       "            .progress-bar-interrupted, .progress-bar-interrupted::-webkit-progress-bar {\n",
       "                background: #F44336;\n",
       "            }\n",
       "        </style>\n",
       "      <progress value='13143' class='' max='13143', style='width:300px; height:20px; vertical-align: middle;'></progress>\n",
       "      100.00% [13143/13143 00:22<00:00]\n",
       "    </div>\n",
       "    "
      ],
      "text/plain": [
       "<IPython.core.display.HTML object>"
      ]
     },
     "metadata": {},
     "output_type": "display_data"
    }
   ],
   "source": [
    "output_dir = Path('../data/icao/flash_lfw/')\n",
    "for im_path,val in progress_bar(flash_images):\n",
    "    data_name = 'FlashOn' if val > 0 else 'FlashOff'\n",
    "    open_image(im_path).save(output_dir/data_name/im_path.name)"
   ]
  },
  {
   "cell_type": "code",
   "execution_count": null,
   "metadata": {},
   "outputs": [],
   "source": []
  }
 ],
 "metadata": {
  "kernelspec": {
   "display_name": "nlp",
   "language": "python",
   "name": "nlp"
  },
  "language_info": {
   "codemirror_mode": {
    "name": "ipython",
    "version": 3
   },
   "file_extension": ".py",
   "mimetype": "text/x-python",
   "name": "python",
   "nbconvert_exporter": "python",
   "pygments_lexer": "ipython3",
   "version": "3.7.5"
  }
 },
 "nbformat": 4,
 "nbformat_minor": 2
}
