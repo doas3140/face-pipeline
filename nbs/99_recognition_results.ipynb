{
 "cells": [
  {
   "cell_type": "code",
   "execution_count": 1,
   "metadata": {},
   "outputs": [],
   "source": [
    "# default_exp recognition_results"
   ]
  },
  {
   "cell_type": "code",
   "execution_count": 1,
   "metadata": {},
   "outputs": [],
   "source": [
    "from fastai import *\n",
    "from fastai.vision import *\n",
    "from pathlib import Path\n",
    "import cv2"
   ]
  },
  {
   "cell_type": "code",
   "execution_count": 2,
   "metadata": {},
   "outputs": [
    {
     "data": {
      "text/html": [
       "<div>\n",
       "<style scoped>\n",
       "    .dataframe tbody tr th:only-of-type {\n",
       "        vertical-align: middle;\n",
       "    }\n",
       "\n",
       "    .dataframe tbody tr th {\n",
       "        vertical-align: top;\n",
       "    }\n",
       "\n",
       "    .dataframe thead th {\n",
       "        text-align: right;\n",
       "    }\n",
       "</style>\n",
       "<table border=\"1\" class=\"dataframe\">\n",
       "  <thead>\n",
       "    <tr style=\"text-align: right;\">\n",
       "      <th></th>\n",
       "      <th>im_path</th>\n",
       "      <th>id</th>\n",
       "    </tr>\n",
       "  </thead>\n",
       "  <tbody>\n",
       "    <tr>\n",
       "      <th>0</th>\n",
       "      <td>../data/recognition/black_people/n007714/0260_...</td>\n",
       "      <td>0</td>\n",
       "    </tr>\n",
       "    <tr>\n",
       "      <th>1</th>\n",
       "      <td>../data/recognition/black_people/n007714/0203_...</td>\n",
       "      <td>0</td>\n",
       "    </tr>\n",
       "    <tr>\n",
       "      <th>2</th>\n",
       "      <td>../data/recognition/black_people/n007714/0009_...</td>\n",
       "      <td>0</td>\n",
       "    </tr>\n",
       "    <tr>\n",
       "      <th>3</th>\n",
       "      <td>../data/recognition/black_people/n007714/0182_...</td>\n",
       "      <td>0</td>\n",
       "    </tr>\n",
       "    <tr>\n",
       "      <th>4</th>\n",
       "      <td>../data/recognition/black_people/n007714/0136_...</td>\n",
       "      <td>0</td>\n",
       "    </tr>\n",
       "    <tr>\n",
       "      <th>...</th>\n",
       "      <td>...</td>\n",
       "      <td>...</td>\n",
       "    </tr>\n",
       "    <tr>\n",
       "      <th>16218</th>\n",
       "      <td>../data/recognition/black_people/n003568/0117_...</td>\n",
       "      <td>49</td>\n",
       "    </tr>\n",
       "    <tr>\n",
       "      <th>16219</th>\n",
       "      <td>../data/recognition/black_people/n003568/0028_...</td>\n",
       "      <td>49</td>\n",
       "    </tr>\n",
       "    <tr>\n",
       "      <th>16220</th>\n",
       "      <td>../data/recognition/black_people/n003568/0050_...</td>\n",
       "      <td>49</td>\n",
       "    </tr>\n",
       "    <tr>\n",
       "      <th>16221</th>\n",
       "      <td>../data/recognition/black_people/n003568/0036_...</td>\n",
       "      <td>49</td>\n",
       "    </tr>\n",
       "    <tr>\n",
       "      <th>16222</th>\n",
       "      <td>../data/recognition/black_people/n003568/0147_...</td>\n",
       "      <td>49</td>\n",
       "    </tr>\n",
       "  </tbody>\n",
       "</table>\n",
       "<p>16223 rows × 2 columns</p>\n",
       "</div>"
      ],
      "text/plain": [
       "                                                 im_path  id\n",
       "0      ../data/recognition/black_people/n007714/0260_...   0\n",
       "1      ../data/recognition/black_people/n007714/0203_...   0\n",
       "2      ../data/recognition/black_people/n007714/0009_...   0\n",
       "3      ../data/recognition/black_people/n007714/0182_...   0\n",
       "4      ../data/recognition/black_people/n007714/0136_...   0\n",
       "...                                                  ...  ..\n",
       "16218  ../data/recognition/black_people/n003568/0117_...  49\n",
       "16219  ../data/recognition/black_people/n003568/0028_...  49\n",
       "16220  ../data/recognition/black_people/n003568/0050_...  49\n",
       "16221  ../data/recognition/black_people/n003568/0036_...  49\n",
       "16222  ../data/recognition/black_people/n003568/0147_...  49\n",
       "\n",
       "[16223 rows x 2 columns]"
      ]
     },
     "execution_count": 2,
     "metadata": {},
     "output_type": "execute_result"
    }
   ],
   "source": [
    "path = Path('../data/recognition/black_people/')\n",
    "images = []\n",
    "for i, human_dir in enumerate(path.iterdir()):\n",
    "    for im_path in human_dir.iterdir():\n",
    "        images.append( (str(im_path), i) )\n",
    "black_df = pd.DataFrame(images, columns=('im_path', 'id'))\n",
    "black_df"
   ]
  },
  {
   "cell_type": "code",
   "execution_count": 3,
   "metadata": {},
   "outputs": [],
   "source": [
    "num_ppl = black_df['id'].max() + 1"
   ]
  },
  {
   "cell_type": "code",
   "execution_count": 5,
   "metadata": {},
   "outputs": [
    {
     "data": {
      "text/html": [
       "\n",
       "    <div>\n",
       "        <style>\n",
       "            /* Turns off some styling */\n",
       "            progress {\n",
       "                /* gets rid of default border in Firefox and Opera. */\n",
       "                border: none;\n",
       "                /* Needs to be in here for Safari polyfill so background images work as expected. */\n",
       "                background-size: auto;\n",
       "            }\n",
       "            .progress-bar-interrupted, .progress-bar-interrupted::-webkit-progress-bar {\n",
       "                background: #F44336;\n",
       "            }\n",
       "        </style>\n",
       "      <progress value='50' class='' max='50', style='width:300px; height:20px; vertical-align: middle;'></progress>\n",
       "      100.00% [50/50 00:01<00:00]\n",
       "    </div>\n",
       "    "
      ],
      "text/plain": [
       "<IPython.core.display.HTML object>"
      ]
     },
     "metadata": {},
     "output_type": "display_data"
    },
    {
     "data": {
      "text/html": [
       "<div>\n",
       "<style scoped>\n",
       "    .dataframe tbody tr th:only-of-type {\n",
       "        vertical-align: middle;\n",
       "    }\n",
       "\n",
       "    .dataframe tbody tr th {\n",
       "        vertical-align: top;\n",
       "    }\n",
       "\n",
       "    .dataframe thead th {\n",
       "        text-align: right;\n",
       "    }\n",
       "</style>\n",
       "<table border=\"1\" class=\"dataframe\">\n",
       "  <thead>\n",
       "    <tr style=\"text-align: right;\">\n",
       "      <th></th>\n",
       "      <th>imA</th>\n",
       "      <th>imB</th>\n",
       "      <th>is_same</th>\n",
       "    </tr>\n",
       "  </thead>\n",
       "  <tbody>\n",
       "    <tr>\n",
       "      <th>0</th>\n",
       "      <td>../data/recognition/black_people/n007714/0019_...</td>\n",
       "      <td>../data/recognition/black_people/n005203/0263_...</td>\n",
       "      <td>False</td>\n",
       "    </tr>\n",
       "    <tr>\n",
       "      <th>1</th>\n",
       "      <td>../data/recognition/black_people/n007714/0019_...</td>\n",
       "      <td>../data/recognition/black_people/n001621/0018_...</td>\n",
       "      <td>False</td>\n",
       "    </tr>\n",
       "    <tr>\n",
       "      <th>2</th>\n",
       "      <td>../data/recognition/black_people/n007714/0019_...</td>\n",
       "      <td>../data/recognition/black_people/n008580/0153_...</td>\n",
       "      <td>False</td>\n",
       "    </tr>\n",
       "    <tr>\n",
       "      <th>3</th>\n",
       "      <td>../data/recognition/black_people/n007714/0019_...</td>\n",
       "      <td>../data/recognition/black_people/n009152/0190_...</td>\n",
       "      <td>False</td>\n",
       "    </tr>\n",
       "    <tr>\n",
       "      <th>4</th>\n",
       "      <td>../data/recognition/black_people/n007714/0019_...</td>\n",
       "      <td>../data/recognition/black_people/n000476/0074_...</td>\n",
       "      <td>False</td>\n",
       "    </tr>\n",
       "    <tr>\n",
       "      <th>...</th>\n",
       "      <td>...</td>\n",
       "      <td>...</td>\n",
       "      <td>...</td>\n",
       "    </tr>\n",
       "    <tr>\n",
       "      <th>1995</th>\n",
       "      <td>../data/recognition/black_people/n003568/0398_...</td>\n",
       "      <td>../data/recognition/black_people/n003568/0242_...</td>\n",
       "      <td>True</td>\n",
       "    </tr>\n",
       "    <tr>\n",
       "      <th>1996</th>\n",
       "      <td>../data/recognition/black_people/n003568/0398_...</td>\n",
       "      <td>../data/recognition/black_people/n003568/0020_...</td>\n",
       "      <td>True</td>\n",
       "    </tr>\n",
       "    <tr>\n",
       "      <th>1997</th>\n",
       "      <td>../data/recognition/black_people/n003568/0398_...</td>\n",
       "      <td>../data/recognition/black_people/n003568/0129_...</td>\n",
       "      <td>True</td>\n",
       "    </tr>\n",
       "    <tr>\n",
       "      <th>1998</th>\n",
       "      <td>../data/recognition/black_people/n003568/0398_...</td>\n",
       "      <td>../data/recognition/black_people/n003568/0270_...</td>\n",
       "      <td>True</td>\n",
       "    </tr>\n",
       "    <tr>\n",
       "      <th>1999</th>\n",
       "      <td>../data/recognition/black_people/n003568/0398_...</td>\n",
       "      <td>../data/recognition/black_people/n003568/0088_...</td>\n",
       "      <td>True</td>\n",
       "    </tr>\n",
       "  </tbody>\n",
       "</table>\n",
       "<p>2000 rows × 3 columns</p>\n",
       "</div>"
      ],
      "text/plain": [
       "                                                    imA  \\\n",
       "0     ../data/recognition/black_people/n007714/0019_...   \n",
       "1     ../data/recognition/black_people/n007714/0019_...   \n",
       "2     ../data/recognition/black_people/n007714/0019_...   \n",
       "3     ../data/recognition/black_people/n007714/0019_...   \n",
       "4     ../data/recognition/black_people/n007714/0019_...   \n",
       "...                                                 ...   \n",
       "1995  ../data/recognition/black_people/n003568/0398_...   \n",
       "1996  ../data/recognition/black_people/n003568/0398_...   \n",
       "1997  ../data/recognition/black_people/n003568/0398_...   \n",
       "1998  ../data/recognition/black_people/n003568/0398_...   \n",
       "1999  ../data/recognition/black_people/n003568/0398_...   \n",
       "\n",
       "                                                    imB  is_same  \n",
       "0     ../data/recognition/black_people/n005203/0263_...    False  \n",
       "1     ../data/recognition/black_people/n001621/0018_...    False  \n",
       "2     ../data/recognition/black_people/n008580/0153_...    False  \n",
       "3     ../data/recognition/black_people/n009152/0190_...    False  \n",
       "4     ../data/recognition/black_people/n000476/0074_...    False  \n",
       "...                                                 ...      ...  \n",
       "1995  ../data/recognition/black_people/n003568/0242_...     True  \n",
       "1996  ../data/recognition/black_people/n003568/0020_...     True  \n",
       "1997  ../data/recognition/black_people/n003568/0129_...     True  \n",
       "1998  ../data/recognition/black_people/n003568/0270_...     True  \n",
       "1999  ../data/recognition/black_people/n003568/0088_...     True  \n",
       "\n",
       "[2000 rows x 3 columns]"
      ]
     },
     "execution_count": 5,
     "metadata": {},
     "output_type": "execute_result"
    }
   ],
   "source": [
    "df = black_df\n",
    "test_images = []\n",
    "num_false_person, num_true_person = 20, 20\n",
    "for i in progress_bar(range(num_ppl)):\n",
    "    original_im_path = random.choice( list(df[df['id'] == i]['im_path']) )\n",
    "    for j in range(num_false_person):\n",
    "        false_im_path = random.choice( list(df[df['id'] != i]['im_path']) )\n",
    "        test_images.append( (original_im_path, false_im_path, False) )\n",
    "    for j in range(num_true_person):\n",
    "        true_im_path = random.choice( list(df[df['id'] == i]['im_path']) )\n",
    "        test_images.append( (original_im_path, true_im_path, True) )\n",
    "test_df = pd.DataFrame(test_images, columns=('imA', 'imB', 'is_same'))\n",
    "test_df"
   ]
  },
  {
   "cell_type": "code",
   "execution_count": 6,
   "metadata": {},
   "outputs": [],
   "source": [
    "import face_recognition\n",
    "def is_same_face(imA_path, imB_path, tolerance=0.6):\n",
    "    known_image = face_recognition.load_image_file(imA_path)\n",
    "    unknown_image = face_recognition.load_image_file(imB_path)\n",
    "    biden_encoding = face_recognition.face_encodings(known_image)[0]\n",
    "    unknown_encoding = face_recognition.face_encodings(unknown_image)[0]\n",
    "    return face_recognition.compare_faces([biden_encoding], unknown_encoding, tolerance=tolerance)[0]"
   ]
  },
  {
   "cell_type": "code",
   "execution_count": 9,
   "metadata": {},
   "outputs": [],
   "source": [
    "thresholds = range(0,100,5)"
   ]
  },
  {
   "cell_type": "code",
   "execution_count": 7,
   "metadata": {},
   "outputs": [
    {
     "data": {
      "text/html": [
       "\n",
       "    <div>\n",
       "        <style>\n",
       "            /* Turns off some styling */\n",
       "            progress {\n",
       "                /* gets rid of default border in Firefox and Opera. */\n",
       "                border: none;\n",
       "                /* Needs to be in here for Safari polyfill so background images work as expected. */\n",
       "                background-size: auto;\n",
       "            }\n",
       "            .progress-bar-interrupted, .progress-bar-interrupted::-webkit-progress-bar {\n",
       "                background: #F44336;\n",
       "            }\n",
       "        </style>\n",
       "      <progress value='2000' class='' max='2000', style='width:300px; height:20px; vertical-align: middle;'></progress>\n",
       "      100.00% [2000/2000 06:59<00:00]\n",
       "    </div>\n",
       "    "
      ],
      "text/plain": [
       "<IPython.core.display.HTML object>"
      ]
     },
     "metadata": {},
     "output_type": "display_data"
    },
    {
     "data": {
      "text/html": [
       "\n",
       "    <div>\n",
       "        <style>\n",
       "            /* Turns off some styling */\n",
       "            progress {\n",
       "                /* gets rid of default border in Firefox and Opera. */\n",
       "                border: none;\n",
       "                /* Needs to be in here for Safari polyfill so background images work as expected. */\n",
       "                background-size: auto;\n",
       "            }\n",
       "            .progress-bar-interrupted, .progress-bar-interrupted::-webkit-progress-bar {\n",
       "                background: #F44336;\n",
       "            }\n",
       "        </style>\n",
       "      <progress value='1129' class='' max='2000', style='width:300px; height:20px; vertical-align: middle;'></progress>\n",
       "      56.45% [1129/2000 04:00<03:05]\n",
       "    </div>\n",
       "    "
      ],
      "text/plain": [
       "<IPython.core.display.HTML object>"
      ]
     },
     "metadata": {},
     "output_type": "display_data"
    },
    {
     "name": "stderr",
     "output_type": "stream",
     "text": [
      "IOPub message rate exceeded.\n",
      "The notebook server will temporarily stop sending output\n",
      "to the client in order to avoid crashing it.\n",
      "To change this limit, set the config variable\n",
      "`--NotebookApp.iopub_msg_rate_limit`.\n",
      "\n",
      "Current values:\n",
      "NotebookApp.iopub_msg_rate_limit=1000.0 (msgs/sec)\n",
      "NotebookApp.rate_limit_window=3.0 (secs)\n",
      "\n"
     ]
    },
    {
     "data": {
      "text/html": [
       "\n",
       "    <div>\n",
       "        <style>\n",
       "            /* Turns off some styling */\n",
       "            progress {\n",
       "                /* gets rid of default border in Firefox and Opera. */\n",
       "                border: none;\n",
       "                /* Needs to be in here for Safari polyfill so background images work as expected. */\n",
       "                background-size: auto;\n",
       "            }\n",
       "            .progress-bar-interrupted, .progress-bar-interrupted::-webkit-progress-bar {\n",
       "                background: #F44336;\n",
       "            }\n",
       "        </style>\n",
       "      <progress value='1860' class='' max='2000', style='width:300px; height:20px; vertical-align: middle;'></progress>\n",
       "      93.00% [1860/2000 06:35<00:29]\n",
       "    </div>\n",
       "    "
      ],
      "text/plain": [
       "<IPython.core.display.HTML object>"
      ]
     },
     "metadata": {},
     "output_type": "display_data"
    },
    {
     "name": "stderr",
     "output_type": "stream",
     "text": [
      "IOPub message rate exceeded.\n",
      "The notebook server will temporarily stop sending output\n",
      "to the client in order to avoid crashing it.\n",
      "To change this limit, set the config variable\n",
      "`--NotebookApp.iopub_msg_rate_limit`.\n",
      "\n",
      "Current values:\n",
      "NotebookApp.iopub_msg_rate_limit=1000.0 (msgs/sec)\n",
      "NotebookApp.rate_limit_window=3.0 (secs)\n",
      "\n"
     ]
    },
    {
     "data": {
      "text/html": [
       "\n",
       "    <div>\n",
       "        <style>\n",
       "            /* Turns off some styling */\n",
       "            progress {\n",
       "                /* gets rid of default border in Firefox and Opera. */\n",
       "                border: none;\n",
       "                /* Needs to be in here for Safari polyfill so background images work as expected. */\n",
       "                background-size: auto;\n",
       "            }\n",
       "            .progress-bar-interrupted, .progress-bar-interrupted::-webkit-progress-bar {\n",
       "                background: #F44336;\n",
       "            }\n",
       "        </style>\n",
       "      <progress value='2000' class='' max='2000', style='width:300px; height:20px; vertical-align: middle;'></progress>\n",
       "      100.00% [2000/2000 06:59<00:00]\n",
       "    </div>\n",
       "    "
      ],
      "text/plain": [
       "<IPython.core.display.HTML object>"
      ]
     },
     "metadata": {},
     "output_type": "display_data"
    },
    {
     "data": {
      "text/html": [
       "\n",
       "    <div>\n",
       "        <style>\n",
       "            /* Turns off some styling */\n",
       "            progress {\n",
       "                /* gets rid of default border in Firefox and Opera. */\n",
       "                border: none;\n",
       "                /* Needs to be in here for Safari polyfill so background images work as expected. */\n",
       "                background-size: auto;\n",
       "            }\n",
       "            .progress-bar-interrupted, .progress-bar-interrupted::-webkit-progress-bar {\n",
       "                background: #F44336;\n",
       "            }\n",
       "        </style>\n",
       "      <progress value='529' class='' max='2000', style='width:300px; height:20px; vertical-align: middle;'></progress>\n",
       "      26.45% [529/2000 01:48<05:01]\n",
       "    </div>\n",
       "    "
      ],
      "text/plain": [
       "<IPython.core.display.HTML object>"
      ]
     },
     "metadata": {},
     "output_type": "display_data"
    },
    {
     "name": "stderr",
     "output_type": "stream",
     "text": [
      "IOPub message rate exceeded.\n",
      "The notebook server will temporarily stop sending output\n",
      "to the client in order to avoid crashing it.\n",
      "To change this limit, set the config variable\n",
      "`--NotebookApp.iopub_msg_rate_limit`.\n",
      "\n",
      "Current values:\n",
      "NotebookApp.iopub_msg_rate_limit=1000.0 (msgs/sec)\n",
      "NotebookApp.rate_limit_window=3.0 (secs)\n",
      "\n"
     ]
    }
   ],
   "source": [
    "res = []\n",
    "for t in thresholds:\n",
    "    t = t/100\n",
    "    correct_results, errors = [], 0\n",
    "    for a,b,is_same_true in progress_bar(list(zip(test_df['imA'], test_df['imB'], test_df['is_same']))):\n",
    "        try:\n",
    "            is_same_pred = is_same_face(a, b, tolerance=t)\n",
    "            correct_results.append( (is_same_pred, is_same_true) )\n",
    "        except:\n",
    "            errors += 1\n",
    "            correct_results.append( ('unk', is_same_true) )\n",
    "    res.append(correct_results)"
   ]
  },
  {
   "cell_type": "code",
   "execution_count": 18,
   "metadata": {},
   "outputs": [
    {
     "name": "stdout",
     "output_type": "stream",
     "text": [
      "0 0.4942938659058488\n",
      "5 0.4942938659058488\n",
      "10 0.4942938659058488\n",
      "15 0.4942938659058488\n",
      "20 0.4942938659058488\n",
      "25 0.4950071326676177\n",
      "30 0.5014265335235378\n",
      "35 0.5271041369472182\n",
      "40 0.6005706134094151\n",
      "45 0.6918687589158345\n",
      "50 0.8109843081312411\n",
      "55 0.8858773181169758\n",
      "60 0.8930099857346647\n",
      "65 0.8495007132667618\n",
      "70 0.7710413694721826\n",
      "75 0.6875891583452212\n",
      "80 0.6248216833095578\n",
      "85 0.5699001426533523\n",
      "90 0.5342368045649073\n",
      "95 0.514265335235378\n"
     ]
    }
   ],
   "source": [
    "for r,t in zip(res, thresholds):\n",
    "    r = list(filter(lambda x: x[0] != 'unk', r))\n",
    "    r = [(a[0],b) for a,b in r]\n",
    "    correct_results = [pred == true for pred, true in r]\n",
    "    print(t, np.array(correct_results).mean())"
   ]
  },
  {
   "cell_type": "code",
   "execution_count": 14,
   "metadata": {},
   "outputs": [],
   "source": [
    "correct_results = list(filter(lambda x: x != 'unk', correct_results))"
   ]
  },
  {
   "cell_type": "code",
   "execution_count": 15,
   "metadata": {},
   "outputs": [
    {
     "data": {
      "text/plain": [
       "0.8777292576419214"
      ]
     },
     "execution_count": 15,
     "metadata": {},
     "output_type": "execute_result"
    }
   ],
   "source": [
    "np.array(correct_results).mean()"
   ]
  },
  {
   "cell_type": "code",
   "execution_count": 91,
   "metadata": {},
   "outputs": [
    {
     "name": "stdout",
     "output_type": "stream",
     "text": [
      "0\n"
     ]
    }
   ],
   "source": [
    "for i in range(len(test_df)):\n",
    "    \n",
    "    break"
   ]
  },
  {
   "cell_type": "code",
   "execution_count": 43,
   "metadata": {},
   "outputs": [
    {
     "data": {
      "text/plain": [
       "[True, False, False]"
      ]
     },
     "execution_count": 43,
     "metadata": {},
     "output_type": "execute_result"
    }
   ],
   "source": [
    "import face_recognition\n",
    "\n",
    "known_images = [face_recognition.load_image_file(x) for x in [im_pathA1, im_pathA2, im_pathA3]]\n",
    "unknown_image = face_recognition.load_image_file(im_pathB1)\n",
    "\n",
    "biden_encodings = [face_recognition.face_encodings(x)[0] for x in known_images]\n",
    "unknown_encoding = face_recognition.face_encodings(unknown_image)[0]\n",
    "\n",
    "results = face_recognition.compare_faces(biden_encodings, unknown_encoding)\n",
    "results"
   ]
  },
  {
   "cell_type": "code",
   "execution_count": 41,
   "metadata": {},
   "outputs": [],
   "source": [
    " face_recognition.compare_faces??"
   ]
  },
  {
   "cell_type": "code",
   "execution_count": null,
   "metadata": {},
   "outputs": [],
   "source": []
  }
 ],
 "metadata": {
  "kernelspec": {
   "display_name": "nlp",
   "language": "python",
   "name": "nlp"
  },
  "language_info": {
   "codemirror_mode": {
    "name": "ipython",
    "version": 3
   },
   "file_extension": ".py",
   "mimetype": "text/x-python",
   "name": "python",
   "nbconvert_exporter": "python",
   "pygments_lexer": "ipython3",
   "version": "3.7.5"
  }
 },
 "nbformat": 4,
 "nbformat_minor": 2
}
