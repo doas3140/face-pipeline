{
 "cells": [
  {
   "cell_type": "code",
   "execution_count": null,
   "metadata": {},
   "outputs": [],
   "source": [
    "# default_exp data_unlabeled"
   ]
  },
  {
   "cell_type": "code",
   "execution_count": null,
   "metadata": {},
   "outputs": [],
   "source": [
    "from fastai import *\n",
    "from fastai.vision import *\n",
    "from pathlib import Path\n",
    "import cv2"
   ]
  },
  {
   "cell_type": "code",
   "execution_count": null,
   "metadata": {},
   "outputs": [],
   "source": [
    "import matplotlib.pyplot as plt\n",
    "\n",
    "def plot(im, figsize=None): # im - np.arr(h,w,3), figsize - tuple(2)\n",
    "    ax = plt.figure(figsize=figsize)\n",
    "    if len(im.squeeze().shape) == 2: plt.imshow(im, cmap='gray')\n",
    "    else: plt.imshow(im)\n",
    "    return plt.show()"
   ]
  },
  {
   "cell_type": "code",
   "execution_count": null,
   "metadata": {},
   "outputs": [],
   "source": [
    "FACE_PATH = Path(\"C:\\\\Users\\\\domin\\\\Documents\\\\FACE DATASETS\\\\\")\n",
    "OUT_DIR = FACE_PATH/\"unlabeled\"/\"images\""
   ]
  },
  {
   "cell_type": "code",
   "execution_count": null,
   "metadata": {},
   "outputs": [],
   "source": [
    "def save_image(image, im_name):\n",
    "    image.save(OUT_DIR/(str(im_name)+\".jpg\"))\n",
    "    \n",
    "def save_cv2_image(im, im_name):\n",
    "    image = Image(tensor(im).permute(2,0,1).type(torch.float32)/255.)\n",
    "    save_image(image, im_name)"
   ]
  },
  {
   "cell_type": "code",
   "execution_count": null,
   "metadata": {},
   "outputs": [],
   "source": [
    "def prepare_image(image): # fastai.vision.Image\n",
    "    im = (image2np(image.data)*255).astype(np.uint8)\n",
    "    while im.shape[0] < 200 or im.shape[1] < 200:\n",
    "        im = cv2.resize(im, dsize=None, fx=2, fy=2)\n",
    "    return im"
   ]
  },
  {
   "cell_type": "code",
   "execution_count": null,
   "metadata": {},
   "outputs": [],
   "source": [
    "def pad_bbox(bbox=[10,10,20,20], pad=[.35,.5,.4,.5], im_shape=[100,200,3]):\n",
    "    t,l,b,r = bbox\n",
    "    h, w = b-t, r-l\n",
    "    p = (np.array(pad)*np.array([h,w,h,w])).astype(int)\n",
    "    t,l,b,r = np.array(bbox) + np.array([-p[0], -p[1], p[2], p[3]])\n",
    "    t,l = max(0,t), max(0,l)\n",
    "    b,r = min(im_shape[0],b), min(im_shape[1],r)\n",
    "    return [t,l,b,r]"
   ]
  },
  {
   "cell_type": "code",
   "execution_count": null,
   "metadata": {},
   "outputs": [],
   "source": [
    "def modify_and_save_image(im_path, i, data_name, im_func=None):\n",
    "    image = open_image(im_path)\n",
    "    im = prepare_image(image)\n",
    "    if im_func is not None: im = im_func(im)\n",
    "    faces = detect_faces(im)\n",
    "    if len(faces) == 0: return\n",
    "    save_cv2_image(im, data_name+str(i))"
   ]
  },
  {
   "cell_type": "markdown",
   "metadata": {},
   "source": [
    "### Caffe Face detection"
   ]
  },
  {
   "cell_type": "code",
   "execution_count": null,
   "metadata": {},
   "outputs": [],
   "source": [
    "net = cv2.dnn.readNetFromCaffe(\"../models/deploy.prototxt.txt\", \"../models/res10_300x300_ssd_iter_140000.caffemodel\")"
   ]
  },
  {
   "cell_type": "code",
   "execution_count": null,
   "metadata": {},
   "outputs": [],
   "source": [
    "def detect_faces(image, min_confidence=0.5):\n",
    "#     image = cv2.cvtColor(image, cv2.COLOR_RGB2BGR).astype(np.uint8)\n",
    "    (h, w) = image.shape[:2]\n",
    "    blob = cv2.dnn.blobFromImage(cv2.resize(image, (300, 300)), 1.0, (300, 300), (104.0, 177.0, 123.0))\n",
    "    net.setInput(blob)\n",
    "    detections = net.forward()\n",
    "    out = []\n",
    "    for i in range(0, detections.shape[2]):\n",
    "        confidence = detections[0, 0, i, 2]\n",
    "        if confidence > min_confidence:\n",
    "            box = detections[0, 0, i, 3:7] * np.array([w, h, w, h])\n",
    "            (startX, startY, endX, endY) = box.astype(\"int\")\n",
    "            out.append((confidence, [startY, startX, endY, endX]))\n",
    "    return out"
   ]
  },
  {
   "cell_type": "markdown",
   "metadata": {},
   "source": [
    "### Cascade face detection"
   ]
  },
  {
   "cell_type": "code",
   "execution_count": null,
   "metadata": {},
   "outputs": [],
   "source": [
    "def cascade_detect_regions(img, cascade_classifier):\n",
    "    img_gray = cv2.cvtColor(img, cv2.COLOR_RGB2GRAY).astype(np.uint8)\n",
    "    img_gray = cv2.equalizeHist(img_gray)\n",
    "    regions = cascade_classifier.detectMultiScale(img_gray)\n",
    "    return [ (t,l,t+h,l+w) for (l,t,w,h) in regions] # out: (t,l,b,r)\n",
    "\n",
    "face_cascade = cv2.CascadeClassifier()\n",
    "face_cascade.load(cv2.samples.findFile('../haarcascades/haarcascade_frontalface_default.xml'))\n",
    "detect_faces = lambda img: cascade_detect_regions(img, face_cascade)"
   ]
  },
  {
   "cell_type": "markdown",
   "metadata": {},
   "source": [
    "### lfw"
   ]
  },
  {
   "cell_type": "code",
   "execution_count": null,
   "metadata": {},
   "outputs": [],
   "source": [
    "def lfw_paths():\n",
    "    path = FACE_PATH/\"LFW\"/\"lfw\"\n",
    "    im_paths = []\n",
    "    for cat_path in path.iterdir():\n",
    "        cat_name = cat_path.stem\n",
    "        im_paths += get_image_files(cat_path)\n",
    "    return im_paths\n",
    "len(lfw_paths())"
   ]
  },
  {
   "cell_type": "code",
   "execution_count": null,
   "metadata": {},
   "outputs": [],
   "source": [
    "def prep_image(im):\n",
    "    return cv2.resize(im, dsize=None, fx=1.5, fy=1.5)\n",
    "\n",
    "_modify_and_save_images = partial(modify_and_save_image, data_name=\"lfw\", im_func=prep_image)\n",
    "parallel(_modify_and_save_images, lfw_paths(), max_workers=1)"
   ]
  },
  {
   "cell_type": "markdown",
   "metadata": {},
   "source": [
    "### sof"
   ]
  },
  {
   "cell_type": "code",
   "execution_count": null,
   "metadata": {},
   "outputs": [],
   "source": [
    "def sof_paths():\n",
    "    path = FACE_PATH/\"SOF\"/\"original images\"\n",
    "    return get_image_files(path)\n",
    "len(sof_paths())"
   ]
  },
  {
   "cell_type": "code",
   "execution_count": null,
   "metadata": {},
   "outputs": [],
   "source": [
    "_modify_and_save_images = partial(modify_and_save_image, data_name=\"sof\")\n",
    "parallel(_modify_and_save_images, sof_paths(), max_workers=1)"
   ]
  },
  {
   "cell_type": "markdown",
   "metadata": {},
   "source": [
    "### facescrub"
   ]
  },
  {
   "cell_type": "code",
   "execution_count": null,
   "metadata": {},
   "outputs": [],
   "source": [
    "path = FACE_PATH/\"FACESCRUB\"\n",
    "actors_path = path/\"facescrub_actors.txt\"\n",
    "actress_path = path/\"facescrub_actresses.txt\""
   ]
  },
  {
   "cell_type": "code",
   "execution_count": null,
   "metadata": {},
   "outputs": [],
   "source": [
    "readlines = lambda p: open(p).readlines()\n",
    "parseline = lambda l: l.split('\\t')"
   ]
  },
  {
   "cell_type": "code",
   "execution_count": null,
   "metadata": {},
   "outputs": [],
   "source": [
    "global errors\n",
    "errors = 0\n",
    "def download_image(dest, url, i, timeout=4):\n",
    "    global errors\n",
    "    suffix = url.split('.')[-1]\n",
    "    dest = dest/f\"{i:08d}.{suffix}\"\n",
    "    try: r = download_url(url, dest, overwrite=True, show_progress=False, timeout=timeout, retries=1)\n",
    "    except Exception as e:\n",
    "        errors += 1\n",
    "        #print(f\"Error {url} {e}\")"
   ]
  },
  {
   "cell_type": "code",
   "execution_count": null,
   "metadata": {},
   "outputs": [],
   "source": [
    "def facescrub_download(max_workers=1, timeout=1):\n",
    "    global errors\n",
    "    path = FACE_PATH/\"FACESCRUB\"\n",
    "    images_path = path/\"images\"\n",
    "    actors_path = path/\"facescrub_actors.txt\"\n",
    "    actress_path = path/\"facescrub_actresses.txt\"\n",
    "    urls = []\n",
    "    for txt_path in [actors_path, actress_path]:\n",
    "        lines = map(parseline, readlines(txt_path)[1:])\n",
    "        urls += [url for name, image_id, face_id, url, bbox, sha256 in lines]\n",
    "    parallel(partial(download_image, images_path, timeout=timeout), urls, max_workers=max_workers)\n",
    "    print(\"errors:\", errors)"
   ]
  },
  {
   "cell_type": "code",
   "execution_count": null,
   "metadata": {},
   "outputs": [],
   "source": [
    "facescrub_download()"
   ]
  },
  {
   "cell_type": "code",
   "execution_count": null,
   "metadata": {},
   "outputs": [],
   "source": [
    "def facesrub_verify(): # deletes broken images\n",
    "    images_path = path/\"images\"\n",
    "    verify_images(images_path, delete=True, max_workers=1, max_size=None, recurse=False, dest=images_path)"
   ]
  },
  {
   "cell_type": "code",
   "execution_count": null,
   "metadata": {},
   "outputs": [],
   "source": [
    "facesrub_verify()"
   ]
  },
  {
   "cell_type": "markdown",
   "metadata": {},
   "source": [
    "### bio id"
   ]
  },
  {
   "cell_type": "code",
   "execution_count": null,
   "metadata": {},
   "outputs": [],
   "source": [
    "def bioid_paths():\n",
    "    path = FACE_PATH/\"BIOID\"/\"images\"\n",
    "    return get_image_files(path)\n",
    "len(bioid_paths())"
   ]
  },
  {
   "cell_type": "code",
   "execution_count": null,
   "metadata": {},
   "outputs": [],
   "source": [
    "_modify_and_save_images = partial(modify_and_save_image, data_name=\"bioid\")\n",
    "parallel(_modify_and_save_images, bioid_paths(), max_workers=1)"
   ]
  },
  {
   "cell_type": "markdown",
   "metadata": {},
   "source": [
    "### utk"
   ]
  },
  {
   "cell_type": "code",
   "execution_count": null,
   "metadata": {},
   "outputs": [],
   "source": [
    "def utk_path():\n",
    "    path = FACE_PATH/\"UTK_FACE\"\n",
    "    paths = []\n",
    "    for _id in range(1,4):\n",
    "        dir_path = path/(\"part\"+str(_id))\n",
    "        paths += get_image_files(dir_path)\n",
    "    return paths\n",
    "len(utk_path())"
   ]
  },
  {
   "cell_type": "code",
   "execution_count": null,
   "metadata": {},
   "outputs": [],
   "source": [
    "_modify_and_save_images = partial(modify_and_save_image, data_name=\"utk\")\n",
    "parallel(_modify_and_save_images, utk_path(), max_workers=1)"
   ]
  },
  {
   "cell_type": "markdown",
   "metadata": {},
   "source": [
    "### youtube"
   ]
  },
  {
   "cell_type": "code",
   "execution_count": null,
   "metadata": {},
   "outputs": [],
   "source": [
    "choice = lambda arr, num_items: [random.choice(arr) for _ in range(num_items)]"
   ]
  },
  {
   "cell_type": "code",
   "execution_count": null,
   "metadata": {},
   "outputs": [],
   "source": [
    "def youtube_path():\n",
    "    path = FACE_PATH/\"YOUTUBE\"/\"frame_images_DB\"\n",
    "    paths = []\n",
    "    for cat_path in path.iterdir():\n",
    "        if cat_path.is_dir():\n",
    "            for video_path in cat_path.iterdir():\n",
    "                paths += choice([p for p in video_path.iterdir()], 3)\n",
    "    return paths\n",
    "len(youtube_path())"
   ]
  },
  {
   "cell_type": "code",
   "execution_count": null,
   "metadata": {},
   "outputs": [],
   "source": [
    "_modify_and_save_images = partial(modify_and_save_image, data_name=\"yt\")\n",
    "parallel(_modify_and_save_images, youtube_path(), max_workers=1)"
   ]
  },
  {
   "cell_type": "markdown",
   "metadata": {},
   "source": [
    "### imdb + wiki"
   ]
  },
  {
   "cell_type": "code",
   "execution_count": null,
   "metadata": {},
   "outputs": [],
   "source": [
    "def imdb_path():\n",
    "    path = FACE_PATH/\"IMDB_WIKI\"/\"imdb_crop\"\n",
    "    return get_image_files(path, recurse=True)\n",
    "len(imdb_path())"
   ]
  },
  {
   "cell_type": "code",
   "execution_count": null,
   "metadata": {},
   "outputs": [],
   "source": [
    "def wiki_path():\n",
    "    path = FACE_PATH/\"IMDB_WIKI\"/\"wiki_crop\"\n",
    "    return get_image_files(path, recurse=True)\n",
    "len(wiki_path())"
   ]
  },
  {
   "cell_type": "code",
   "execution_count": null,
   "metadata": {},
   "outputs": [],
   "source": [
    "_modify_and_save_images = partial(modify_and_save_image, data_name=\"imdb\")\n",
    "parallel(_modify_and_save_images, imdb_path(), max_workers=1)"
   ]
  },
  {
   "cell_type": "code",
   "execution_count": null,
   "metadata": {},
   "outputs": [],
   "source": [
    "_modify_and_save_images = partial(modify_and_save_image, data_name=\"wiki\")\n",
    "parallel(_modify_and_save_images, wiki_path(), max_workers=1)"
   ]
  },
  {
   "cell_type": "markdown",
   "metadata": {},
   "source": [
    "### create images txt"
   ]
  },
  {
   "cell_type": "code",
   "execution_count": null,
   "metadata": {},
   "outputs": [],
   "source": [
    "def create_images_txt(path=FACE_PATH/\"unlabeled\"/\"images.txt\"):\n",
    "    with open(str(path), \"w\") as f:\n",
    "        for path in OUT_DIR.iterdir()\n",
    "            f.write(str(path).split(\"/\")[-1]+\"\\n\")"
   ]
  },
  {
   "cell_type": "code",
   "execution_count": null,
   "metadata": {},
   "outputs": [],
   "source": [
    "create_images_txt()"
   ]
  },
  {
   "cell_type": "code",
   "execution_count": null,
   "metadata": {},
   "outputs": [],
   "source": []
  }
 ],
 "metadata": {
  "kernelspec": {
   "display_name": "Python 3",
   "language": "python",
   "name": "python3"
  },
  "language_info": {
   "codemirror_mode": {
    "name": "ipython",
    "version": 3
   },
   "file_extension": ".py",
   "mimetype": "text/x-python",
   "name": "python",
   "nbconvert_exporter": "python",
   "pygments_lexer": "ipython3",
   "version": "3.7.3"
  }
 },
 "nbformat": 4,
 "nbformat_minor": 2
}
